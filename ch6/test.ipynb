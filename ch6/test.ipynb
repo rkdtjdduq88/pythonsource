{
 "cells": [
  {
   "cell_type": "code",
   "execution_count": 1,
   "metadata": {},
   "outputs": [
    {
     "name": "stdout",
     "output_type": "stream",
     "text": [
      "안녕하세요\n"
     ]
    }
   ],
   "source": [
    "print(\"안녕하세요\")"
   ]
  },
  {
   "cell_type": "code",
   "execution_count": 2,
   "metadata": {},
   "outputs": [
    {
     "ename": "NameError",
     "evalue": "name 'c' is not defined",
     "output_type": "error",
     "traceback": [
      "\u001b[1;31m---------------------------------------------------------------------------\u001b[0m",
      "\u001b[1;31mNameError\u001b[0m                                 Traceback (most recent call last)",
      "Cell \u001b[1;32mIn[2], line 2\u001b[0m\n\u001b[0;32m      1\u001b[0m a,b\u001b[39m=\u001b[39m\u001b[39m10\u001b[39m,\u001b[39m15\u001b[39m\n\u001b[1;32m----> 2\u001b[0m \u001b[39mprint\u001b[39m(c)\n",
      "\u001b[1;31mNameError\u001b[0m: name 'c' is not defined"
     ]
    }
   ],
   "source": [
    "a,b=10,15\n",
    "print(c)"
   ]
  },
  {
   "cell_type": "code",
   "execution_count": 3,
   "metadata": {},
   "outputs": [
    {
     "ename": "ZeroDivisionError",
     "evalue": "division by zero",
     "output_type": "error",
     "traceback": [
      "\u001b[1;31m---------------------------------------------------------------------------\u001b[0m",
      "\u001b[1;31mZeroDivisionError\u001b[0m                         Traceback (most recent call last)",
      "Cell \u001b[1;32mIn[3], line 1\u001b[0m\n\u001b[1;32m----> 1\u001b[0m \u001b[39m10\u001b[39;49m\u001b[39m/\u001b[39;49m\u001b[39m0\u001b[39;49m\n",
      "\u001b[1;31mZeroDivisionError\u001b[0m: division by zero"
     ]
    }
   ],
   "source": [
    "10/0"
   ]
  },
  {
   "cell_type": "code",
   "execution_count": 4,
   "metadata": {},
   "outputs": [
    {
     "ename": "ValueError",
     "evalue": "invalid literal for int() with base 10: 'd'",
     "output_type": "error",
     "traceback": [
      "\u001b[1;31m---------------------------------------------------------------------------\u001b[0m",
      "\u001b[1;31mValueError\u001b[0m                                Traceback (most recent call last)",
      "Cell \u001b[1;32mIn[4], line 1\u001b[0m\n\u001b[1;32m----> 1\u001b[0m number \u001b[39m=\u001b[39m \u001b[39mint\u001b[39;49m(\u001b[39minput\u001b[39;49m(\u001b[39m\"\u001b[39;49m\u001b[39m숫자 입력\u001b[39;49m\u001b[39m\"\u001b[39;49m))\n",
      "\u001b[1;31mValueError\u001b[0m: invalid literal for int() with base 10: 'd'"
     ]
    }
   ],
   "source": [
    "number = int(input(\"숫자 입력\"))"
   ]
  },
  {
   "cell_type": "code",
   "execution_count": 5,
   "metadata": {},
   "outputs": [],
   "source": [
    "number = int(input(\"숫자 입력\"))\n"
   ]
  },
  {
   "attachments": {},
   "cell_type": "markdown",
   "metadata": {},
   "source": [
    "#### 파이썬에서 예외 처리\n",
    "    - try ~ except : try(오류 발생 코드) except(예외 발생시 처리 코드)\n",
    "    - try ~ except : 오류명: or Exception:\n",
    "    - try ~ except 오류명 ~ else 오류가 발생하지 않는 경우 처리 코드 \n",
    "    - try ~ except ~ else ~ finally 오류 여부와 상관없이 무조건 실행 코드   \n",
    "    - try ~ finally"
   ]
  },
  {
   "cell_type": "code",
   "execution_count": 6,
   "metadata": {},
   "outputs": [
    {
     "name": "stdout",
     "output_type": "stream",
     "text": [
      "10\n",
      "20\n",
      "에러 발생\n"
     ]
    }
   ],
   "source": [
    "try:\n",
    "    x = [10,20,30]\n",
    "\n",
    "    print(x[0])\n",
    "    print(x[1])\n",
    "    print(x[3])\n",
    "except:\n",
    "    print(\"에러 발생\")"
   ]
  },
  {
   "cell_type": "code",
   "execution_count": 1,
   "metadata": {},
   "outputs": [
    {
     "name": "stdout",
     "output_type": "stream",
     "text": [
      "안녕하세요\n"
     ]
    }
   ],
   "source": [
    "print(\"안녕하세요\")"
   ]
  },
  {
   "cell_type": "code",
   "execution_count": 4,
   "metadata": {},
   "outputs": [
    {
     "ename": "NameError",
     "evalue": "name '안녕하세요' is not defined",
     "output_type": "error",
     "traceback": [
      "\u001b[1;31m---------------------------------------------------------------------------\u001b[0m",
      "\u001b[1;31mNameError\u001b[0m                                 Traceback (most recent call last)",
      "Cell \u001b[1;32mIn[4], line 1\u001b[0m\n\u001b[1;32m----> 1\u001b[0m 안녕하세요\n",
      "\u001b[1;31mNameError\u001b[0m: name '안녕하세요' is not defined"
     ]
    }
   ],
   "source": [
    "안녕하세요"
   ]
  },
  {
   "cell_type": "code",
   "execution_count": 10,
   "metadata": {},
   "outputs": [
    {
     "name": "stdout",
     "output_type": "stream",
     "text": [
      "Not Found\n",
      "오류와 상관없이 무조건 실행\n"
     ]
    }
   ],
   "source": [
    "names = [\"Kim\",\"Park\",\"Lee\"]\n",
    "try:\n",
    "    z = \"Let\"\n",
    "    x = names.index(z)\n",
    "    print(\"{} Fount it!! in name {}\".format(z, x+1))\n",
    "except ValueError:\n",
    "    print(\"Not Found\")\n",
    "else:\n",
    "    print(\"OK!! else!!\")\n",
    "finally:\n",
    "    print(\"오류와 상관없이 무조건 실행\")"
   ]
  },
  {
   "cell_type": "code",
   "execution_count": 13,
   "metadata": {},
   "outputs": [
    {
     "name": "stdout",
     "output_type": "stream",
     "text": [
      "입력값을 확인해 주세요 invalid literal for int() with base 10: 'd'\n"
     ]
    }
   ],
   "source": [
    "try:\n",
    "    number_input = int(input(\"정수 입력 \"))\n",
    "except Exception as e:\n",
    "    print(\"입력값을 확인해 주세요\",e)\n",
    "else:\n",
    "    print(\"원 반지름\", number_input)\n",
    "    print(\"원 둘레\", 2 * 3.14 * number_input)\n",
    "    print(\"원 넓이\", 3.14 * number_input * number_input)"
   ]
  },
  {
   "cell_type": "code",
   "execution_count": 14,
   "metadata": {},
   "outputs": [
    {
     "name": "stdout",
     "output_type": "stream",
     "text": [
      "10\n",
      "20\n",
      "에러 발생\n",
      "무조건 실행\n"
     ]
    }
   ],
   "source": [
    "try:\n",
    "    x = [10,20,30]\n",
    "\n",
    "    print(x[0])\n",
    "    print(x[1])\n",
    "    print(x[3])\n",
    "except:\n",
    "    print(\"에러 발생\")\n",
    "finally:\n",
    "    print(\"무조건 실행\")"
   ]
  },
  {
   "attachments": {},
   "cell_type": "markdown",
   "metadata": {},
   "source": [
    "### 강제 예외 발생\n",
    "- raise"
   ]
  },
  {
   "cell_type": "code",
   "execution_count": 16,
   "metadata": {},
   "outputs": [
    {
     "name": "stdout",
     "output_type": "stream",
     "text": [
      "오류 발생\n"
     ]
    }
   ],
   "source": [
    "try:\n",
    "    a = \"333\"\n",
    "    if a == \"Kim\":\n",
    "        print(\"OK!!! 허가\")\n",
    "    else:\n",
    "        raise ValueError\n",
    "except ValueError:\n",
    "    print(\"오류 발생\")\n",
    "except Exception as e:\n",
    "    print(\"다른 오류 발생\", e)\n",
    "else:\n",
    "    print(\"OK!!\")"
   ]
  }
 ],
 "metadata": {
  "kernelspec": {
   "display_name": "pythonsource",
   "language": "python",
   "name": "python3"
  },
  "language_info": {
   "codemirror_mode": {
    "name": "ipython",
    "version": 3
   },
   "file_extension": ".py",
   "mimetype": "text/x-python",
   "name": "python",
   "nbconvert_exporter": "python",
   "pygments_lexer": "ipython3",
   "version": "3.11.4"
  },
  "orig_nbformat": 4
 },
 "nbformat": 4,
 "nbformat_minor": 2
}
