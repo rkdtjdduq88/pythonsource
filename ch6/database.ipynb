{
 "cells": [
  {
   "attachments": {},
   "cell_type": "markdown",
   "metadata": {},
   "source": [
    "#### SQLite\n",
    "    - RDBMS(관계형 데이터 베이스)\n",
    "    - 서버가 아니라 응용 프로그램에 넣고 사용하는 가벼운 데이터베이스\n",
    "    - python, 핸드폰, 스프링부트 "
   ]
  },
  {
   "cell_type": "code",
   "execution_count": 4,
   "metadata": {},
   "outputs": [
    {
     "name": "stdout",
     "output_type": "stream",
     "text": [
      "sqlite3 version 2.6.0\n",
      "sqlite3 version 3.42.0\n",
      "date 2023-06-23 11:36:34\n"
     ]
    }
   ],
   "source": [
    "import sqlite3\n",
    "import datetime\n",
    "\n",
    "print(\"sqlite3 version\",sqlite3.version)\n",
    "print(\"sqlite3 version\",sqlite3.sqlite_version)\n",
    "\n",
    "now = datetime.datetime.now() # 모듈명.클래스명.메소드명\n",
    "nowDateTime = now.strftime(\"%Y-%m-%d %H:%M:%S\")\n",
    "print(\"date\",nowDateTime)\n"
   ]
  },
  {
   "cell_type": "code",
   "execution_count": 5,
   "metadata": {},
   "outputs": [
    {
     "name": "stdout",
     "output_type": "stream",
     "text": [
      "2023-06-23 11:36:36.562093\n"
     ]
    }
   ],
   "source": [
    "from datetime import datetime\n",
    "print(datetime.now())"
   ]
  },
  {
   "attachments": {},
   "cell_type": "markdown",
   "metadata": {},
   "source": [
    "#### 데이터베이스 생성"
   ]
  },
  {
   "cell_type": "code",
   "execution_count": 6,
   "metadata": {},
   "outputs": [],
   "source": [
    "conn = sqlite3.connect(\"/source/pythonsource/resource/test.db\",isolation_level=None)"
   ]
  },
  {
   "cell_type": "code",
   "execution_count": 7,
   "metadata": {},
   "outputs": [],
   "source": [
    "cursor = conn.cursor()"
   ]
  },
  {
   "cell_type": "code",
   "execution_count": 12,
   "metadata": {},
   "outputs": [
    {
     "data": {
      "text/plain": [
       "<sqlite3.Cursor at 0x1680a2740c0>"
      ]
     },
     "execution_count": 12,
     "metadata": {},
     "output_type": "execute_result"
    }
   ],
   "source": [
    "cursor.execute(\"create table if not exists users(id integer primary key, username text, email text,\"\n",
    "               \" phone text, website text, regdate text)\")"
   ]
  },
  {
   "cell_type": "code",
   "execution_count": 16,
   "metadata": {},
   "outputs": [
    {
     "data": {
      "text/plain": [
       "<sqlite3.Cursor at 0x1680a2740c0>"
      ]
     },
     "execution_count": 16,
     "metadata": {},
     "output_type": "execute_result"
    }
   ],
   "source": [
    "cursor.execute(\"insert into users(id,username,email,phone,website,regdate)\"\n",
    "               \" values(1, 'Kim','kim@naver.com','010-1234-1234','kim.com',?)\",(nowDateTime,)) # 튜플"
   ]
  },
  {
   "cell_type": "code",
   "execution_count": 17,
   "metadata": {},
   "outputs": [
    {
     "data": {
      "text/plain": [
       "<sqlite3.Cursor at 0x1680a2740c0>"
      ]
     },
     "execution_count": 17,
     "metadata": {},
     "output_type": "execute_result"
    }
   ],
   "source": [
    "cursor.execute(\"insert into users(id,username,email,phone,website,regdate)\"\n",
    "               \" values(?,?,?,?,?,?)\",(2, 'Park','Park@naver.com','010-4567-4567','park.com',nowDateTime)) # 튜플"
   ]
  },
  {
   "cell_type": "code",
   "execution_count": 18,
   "metadata": {},
   "outputs": [
    {
     "data": {
      "text/plain": [
       "<sqlite3.Cursor at 0x1680a2740c0>"
      ]
     },
     "execution_count": 18,
     "metadata": {},
     "output_type": "execute_result"
    }
   ],
   "source": [
    "userList = ((3, 'Kang','Kang@naver.com','010-4253-4663','Kang.com',nowDateTime),\n",
    "            (4, 'Choi','Choi@naver.com','010-9787-6587','Choi.com',nowDateTime),\n",
    "            (5, 'Lee','Lee@naver.com','010-1341-5462','Lee.com',nowDateTime))\n",
    "\n",
    "cursor.executemany(\"insert into users(id,username,email,phone,website,regdate)\"\n",
    "                   \" values(?,?,?,?,?,?)\",userList)"
   ]
  },
  {
   "cell_type": "code",
   "execution_count": 11,
   "metadata": {},
   "outputs": [
    {
     "data": {
      "text/plain": [
       "<sqlite3.Cursor at 0x1680a2740c0>"
      ]
     },
     "execution_count": 11,
     "metadata": {},
     "output_type": "execute_result"
    }
   ],
   "source": [
    "cursor.execute(\"delete from users\")"
   ]
  },
  {
   "cell_type": "code",
   "execution_count": 15,
   "metadata": {},
   "outputs": [
    {
     "data": {
      "text/plain": [
       "4"
      ]
     },
     "execution_count": 15,
     "metadata": {},
     "output_type": "execute_result"
    }
   ],
   "source": [
    "# rowcount : 삭제된 행 개수\n",
    "cursor.execute(\"delete from users\").rowcount"
   ]
  },
  {
   "attachments": {},
   "cell_type": "markdown",
   "metadata": {},
   "source": [
    "데이터 조회\n",
    "    - fetchone(), fetchmany(), fetchall()"
   ]
  },
  {
   "cell_type": "code",
   "execution_count": 28,
   "metadata": {},
   "outputs": [
    {
     "data": {
      "text/plain": [
       "<sqlite3.Cursor at 0x1680a2740c0>"
      ]
     },
     "execution_count": 28,
     "metadata": {},
     "output_type": "execute_result"
    }
   ],
   "source": [
    "cursor.execute(\"select * from users\")"
   ]
  },
  {
   "cell_type": "code",
   "execution_count": 29,
   "metadata": {},
   "outputs": [
    {
     "data": {
      "text/plain": [
       "(1, 'Kim', 'kim@naver.com', '010-1234-1234', 'kim.com', '2023-06-23 11:36:34')"
      ]
     },
     "execution_count": 29,
     "metadata": {},
     "output_type": "execute_result"
    }
   ],
   "source": [
    "cursor.fetchone()"
   ]
  },
  {
   "cell_type": "code",
   "execution_count": 30,
   "metadata": {},
   "outputs": [
    {
     "data": {
      "text/plain": [
       "[(2,\n",
       "  'Park',\n",
       "  'Park@naver.com',\n",
       "  '010-4567-4567',\n",
       "  'park.com',\n",
       "  '2023-06-23 11:36:34'),\n",
       " (3,\n",
       "  'Kang',\n",
       "  'Kang@naver.com',\n",
       "  '010-4253-4663',\n",
       "  'Kang.com',\n",
       "  '2023-06-23 11:36:34')]"
      ]
     },
     "execution_count": 30,
     "metadata": {},
     "output_type": "execute_result"
    }
   ],
   "source": [
    "cursor.fetchmany(size=2)"
   ]
  },
  {
   "cell_type": "code",
   "execution_count": 31,
   "metadata": {},
   "outputs": [
    {
     "data": {
      "text/plain": [
       "[(4,\n",
       "  'Choi',\n",
       "  'Choi@naver.com',\n",
       "  '010-9787-6587',\n",
       "  'Choi.com',\n",
       "  '2023-06-23 11:36:34'),\n",
       " (5,\n",
       "  'Lee',\n",
       "  'Lee@naver.com',\n",
       "  '010-1341-5462',\n",
       "  'Lee.com',\n",
       "  '2023-06-23 11:36:34')]"
      ]
     },
     "execution_count": 31,
     "metadata": {},
     "output_type": "execute_result"
    }
   ],
   "source": [
    "cursor.fetchall()"
   ]
  },
  {
   "cell_type": "code",
   "execution_count": 34,
   "metadata": {},
   "outputs": [
    {
     "name": "stdout",
     "output_type": "stream",
     "text": [
      "(1, 'Kim', 'kim@naver.com', '010-1234-1234', 'kim.com', '2023-06-23 11:36:34')\n",
      "(2, 'Park', 'Park@naver.com', '010-4567-4567', 'park.com', '2023-06-23 11:36:34')\n",
      "(3, 'Kang', 'Kang@naver.com', '010-4253-4663', 'Kang.com', '2023-06-23 11:36:34')\n",
      "(4, 'Choi', 'Choi@naver.com', '010-9787-6587', 'Choi.com', '2023-06-23 11:36:34')\n",
      "(5, 'Lee', 'Lee@naver.com', '010-1341-5462', 'Lee.com', '2023-06-23 11:36:34')\n"
     ]
    }
   ],
   "source": [
    "cursor.execute(\"select * from users\")\n",
    "\n",
    "for c in cursor.fetchall():\n",
    "    print(c)"
   ]
  },
  {
   "cell_type": "code",
   "execution_count": 35,
   "metadata": {},
   "outputs": [
    {
     "name": "stdout",
     "output_type": "stream",
     "text": [
      "(5, 'Lee', 'Lee@naver.com', '010-1341-5462', 'Lee.com', '2023-06-23 11:36:34')\n",
      "(4, 'Choi', 'Choi@naver.com', '010-9787-6587', 'Choi.com', '2023-06-23 11:36:34')\n",
      "(3, 'Kang', 'Kang@naver.com', '010-4253-4663', 'Kang.com', '2023-06-23 11:36:34')\n",
      "(2, 'Park', 'Park@naver.com', '010-4567-4567', 'park.com', '2023-06-23 11:36:34')\n",
      "(1, 'Kim', 'kim@naver.com', '010-1234-1234', 'kim.com', '2023-06-23 11:36:34')\n"
     ]
    }
   ],
   "source": [
    "for c in cursor.execute(\"select * from users order by id desc\"):\n",
    "    print(c)"
   ]
  },
  {
   "cell_type": "code",
   "execution_count": 41,
   "metadata": {},
   "outputs": [
    {
     "data": {
      "text/plain": [
       "[(3,\n",
       "  'Kang',\n",
       "  'Kang@naver.com',\n",
       "  '010-4253-4663',\n",
       "  'Kang.com',\n",
       "  '2023-06-23 11:36:34')]"
      ]
     },
     "execution_count": 41,
     "metadata": {},
     "output_type": "execute_result"
    }
   ],
   "source": [
    "cursor.execute(\"select * from users where id=?\",(3,))\n",
    "cursor.fetchall()"
   ]
  },
  {
   "cell_type": "code",
   "execution_count": 42,
   "metadata": {},
   "outputs": [
    {
     "data": {
      "text/plain": [
       "[(4,\n",
       "  'Choi',\n",
       "  'Choi@naver.com',\n",
       "  '010-9787-6587',\n",
       "  'Choi.com',\n",
       "  '2023-06-23 11:36:34')]"
      ]
     },
     "execution_count": 42,
     "metadata": {},
     "output_type": "execute_result"
    }
   ],
   "source": [
    "cursor.execute(\"select * from users where id=%d\" % 4)\n",
    "cursor.fetchall()"
   ]
  },
  {
   "cell_type": "code",
   "execution_count": 43,
   "metadata": {},
   "outputs": [
    {
     "data": {
      "text/plain": [
       "[(3,\n",
       "  'Kang',\n",
       "  'Kang@naver.com',\n",
       "  '010-4253-4663',\n",
       "  'Kang.com',\n",
       "  '2023-06-23 11:36:34'),\n",
       " (5,\n",
       "  'Lee',\n",
       "  'Lee@naver.com',\n",
       "  '010-1341-5462',\n",
       "  'Lee.com',\n",
       "  '2023-06-23 11:36:34')]"
      ]
     },
     "execution_count": 43,
     "metadata": {},
     "output_type": "execute_result"
    }
   ],
   "source": [
    "cursor.execute(\"select * from users where id in (?,?)\", (3,5))\n",
    "cursor.fetchall()"
   ]
  },
  {
   "cell_type": "code",
   "execution_count": 44,
   "metadata": {},
   "outputs": [
    {
     "data": {
      "text/plain": [
       "[(3,\n",
       "  'Kang',\n",
       "  'Kang@naver.com',\n",
       "  '010-4253-4663',\n",
       "  'Kang.com',\n",
       "  '2023-06-23 11:36:34'),\n",
       " (5,\n",
       "  'Lee',\n",
       "  'Lee@naver.com',\n",
       "  '010-1341-5462',\n",
       "  'Lee.com',\n",
       "  '2023-06-23 11:36:34')]"
      ]
     },
     "execution_count": 44,
     "metadata": {},
     "output_type": "execute_result"
    }
   ],
   "source": [
    "cursor.execute(\"select * from users where id in (%d,%d)\" % (3,5))\n",
    "cursor.fetchall()"
   ]
  },
  {
   "cell_type": "code",
   "execution_count": 45,
   "metadata": {},
   "outputs": [
    {
     "data": {
      "text/plain": [
       "<sqlite3.Cursor at 0x1680a2740c0>"
      ]
     },
     "execution_count": 45,
     "metadata": {},
     "output_type": "execute_result"
    }
   ],
   "source": [
    "cursor.execute(\"update users set username = ? where id = ?\",('Young',2))"
   ]
  },
  {
   "cell_type": "code",
   "execution_count": 49,
   "metadata": {},
   "outputs": [
    {
     "data": {
      "text/plain": [
       "<sqlite3.Cursor at 0x1680a2740c0>"
      ]
     },
     "execution_count": 49,
     "metadata": {},
     "output_type": "execute_result"
    }
   ],
   "source": [
    "cursor.execute(\"update users set username = '%s' where id = '%d'\" % ('Park',2))"
   ]
  },
  {
   "cell_type": "code",
   "execution_count": 50,
   "metadata": {},
   "outputs": [
    {
     "data": {
      "text/plain": [
       "<sqlite3.Cursor at 0x1680a2740c0>"
      ]
     },
     "execution_count": 50,
     "metadata": {},
     "output_type": "execute_result"
    }
   ],
   "source": [
    "cursor.execute(\"delete from users where id=?\",(5,))"
   ]
  },
  {
   "cell_type": "code",
   "execution_count": 51,
   "metadata": {},
   "outputs": [
    {
     "data": {
      "text/plain": [
       "<sqlite3.Cursor at 0x1680a2740c0>"
      ]
     },
     "execution_count": 51,
     "metadata": {},
     "output_type": "execute_result"
    }
   ],
   "source": [
    "cursor.execute(\"delete from users where id=%d\" % 4)"
   ]
  },
  {
   "cell_type": "code",
   "execution_count": null,
   "metadata": {},
   "outputs": [],
   "source": []
  }
 ],
 "metadata": {
  "kernelspec": {
   "display_name": "pythonsource",
   "language": "python",
   "name": "python3"
  },
  "language_info": {
   "codemirror_mode": {
    "name": "ipython",
    "version": 3
   },
   "file_extension": ".py",
   "mimetype": "text/x-python",
   "name": "python",
   "nbconvert_exporter": "python",
   "pygments_lexer": "ipython3",
   "version": "3.11.4"
  },
  "orig_nbformat": 4
 },
 "nbformat": 4,
 "nbformat_minor": 2
}
