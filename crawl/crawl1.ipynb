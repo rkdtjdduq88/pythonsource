{
 "cells": [
  {
   "cell_type": "code",
   "execution_count": null,
   "metadata": {},
   "outputs": [],
   "source": [
    "# 크롤링 라이브러리\n",
    "# requests, BeautipleSoup, Selenium, scrapy....\n",
    "\n",
    "# 파이썬 라이브러리 사용할 수도 있으나 외부 라이브러리를 주로 사용함\n",
    "\n",
    "# requests : 특정 url 에서 정보를 가져오기 쉽게 도와주는 라이브러리"
   ]
  },
  {
   "cell_type": "code",
   "execution_count": 1,
   "metadata": {},
   "outputs": [
    {
     "name": "stdout",
     "output_type": "stream",
     "text": [
      "https://www.python.org/robots.txt\n",
      "# Directions for robots.  See this URL:\n",
      "# http://www.robotstxt.org/robotstxt.html\n",
      "# for a description of the file format.\n",
      "\n",
      "User-agent: HTTrack\n",
      "User-agent: puf\n",
      "User-agent: MSIECrawler\n",
      "Disallow: /\n",
      "\n",
      "# The Krugle web crawler (though based on Nutch) is OK.\n",
      "User-agent: Krugle\n",
      "Allow: /\n",
      "Disallow: /~guido/orlijn/\n",
      "Disallow: /webstats/\n",
      "\n",
      "# No one should be crawling us with Nutch.\n",
      "User-agent: Nutch\n",
      "Disallow: /\n",
      "\n",
      "# Hide old versions of the documentation and various large sets of files.\n",
      "User-agent: *\n",
      "Disallow: /~guido/orlijn/\n",
      "Disallow: /webstats/\n",
      "\n",
      "https://www.naver.com/robots.txt\n",
      "User-agent: *\n",
      "Disallow: /\n",
      "Allow : /$ \n",
      "\n"
     ]
    }
   ],
   "source": [
    "# requests 라이브러리를 로드\n",
    "import requests\n",
    "\n",
    "urls = [\"https://www.python.org/\",\"https://www.naver.com/\"]\n",
    "\n",
    "name = \"robots.txt\"\n",
    "\n",
    "for url in urls:\n",
    "    print(url+name)\n",
    "    robots = requests.get(url+name)\n",
    "    print(robots.text)\n"
   ]
  },
  {
   "cell_type": "code",
   "execution_count": 3,
   "metadata": {},
   "outputs": [
    {
     "name": "stdout",
     "output_type": "stream",
     "text": [
      "Date: Thu, 06 Jul 2023 07:18:04 GMT\n",
      "Expires: -1\n",
      "Cache-Control: private, max-age=0\n",
      "Content-Type: text/html; charset=ISO-8859-1\n",
      "Content-Security-Policy-Report-Only: object-src 'none';base-uri 'self';script-src 'nonce-WctEr2-rCPHS0N6AgvtRgQ' 'strict-dynamic' 'report-sample' 'unsafe-eval' 'unsafe-inline' https: http:;report-uri https://csp.withgoogle.com/csp/gws/other-hp\n",
      "P3P: CP=\"This is not a P3P policy! See g.co/p3phelp for more info.\"\n",
      "Server: gws\n",
      "X-XSS-Protection: 0\n",
      "X-Frame-Options: SAMEORIGIN\n",
      "Set-Cookie: 1P_JAR=2023-07-06-07; expires=Sat, 05-Aug-2023 07:18:04 GMT; path=/; domain=.google.com; Secure\n",
      "Set-Cookie: AEC=Ad49MVFETaNr0VtTiJVXVvArsSqGun80zxEu3vLgClwwC-SzNT5OCt5xGrU; expires=Tue, 02-Jan-2024 07:18:04 GMT; path=/; domain=.google.com; Secure; HttpOnly; SameSite=lax\n",
      "Set-Cookie: NID=511=oavJJFFnf_x5z7_KQb-QEl3toxhvTLwdJZmFPjjc1DfCSuI4fDiapHHoxLutbT-CB2dwCDTVrZnz3mX7a19Wljl0rSJCG6EQ3_ty1V2bwRrnN5vE68LTZMU33LeDiVgsK4IF_xyf42Nl36-fiSG5GHmReNCJw36IcsQGP2YOsn8; expires=Fri, 05-Jan-2024 07:18:04 GMT; path=/; domain=.google.com; HttpOnly\n",
      "Alt-Svc: h3=\":443\"; ma=2592000,h3-29=\":443\"; ma=2592000\n",
      "Accept-Ranges: none\n",
      "Vary: Accept-Encoding\n",
      "Connection: close\n",
      "Transfer-Encoding: chunked\n",
      "\n",
      "\n",
      "./google.html\n",
      "성공\n"
     ]
    }
   ],
   "source": [
    "import urllib.request as req\n",
    "\n",
    "url = \"https://google.com\"\n",
    "\n",
    "save_file = \"./google.html\"\n",
    "\n",
    "try:\n",
    "    file1, header1 = req.urlretrieve(url,save_file)\n",
    "except Exception as e:\n",
    "    print(e)\n",
    "else:\n",
    "    print(header1)\n",
    "    print(file1)\n",
    "    print(\"성공\")"
   ]
  },
  {
   "attachments": {},
   "cell_type": "markdown",
   "metadata": {},
   "source": [
    "##### urlretrieve\n",
    "    - 요청하는 url의 정보를 로컬 파일로 저장\n",
    "    - 튜플로 반환됨\n",
    "    - csv, api 데이터 등 많은 양의 데이터를 한번에 저장할 때 사용\n"
   ]
  },
  {
   "cell_type": "code",
   "execution_count": 4,
   "metadata": {},
   "outputs": [
    {
     "name": "stdout",
     "output_type": "stream",
     "text": [
      "file1 ./cat.jpg\n",
      "file2 ./naver.html\n"
     ]
    }
   ],
   "source": [
    "img_url = \"https://search.pstatic.net/common/?src=http%3A%2F%2Fblogfiles.naver.net%2FMjAyMzA2MDhfNjgg%2FMDAxNjg2MjA4MDUxNzcz.0LRu-ZEx7KhZqGUGlQzfTOB3gLa1Umikb_ODWH_3Alwg.kY5hTeUSVN59Xc0KCGLjUjTZl4kZooHrws3UYE3TTv4g.JPEG.24sooamc2019%2FGettyImages-1495553264.jpg&type=a340\"\n",
    "html_url = \"https://www.naver.com\"\n",
    "\n",
    "# 경로\n",
    "img_path = \"./cat.jpg\"\n",
    "html_path = \"./naver.html\"\n",
    "\n",
    "try:\n",
    "    file1, header1 = req.urlretrieve(img_url, img_path)\n",
    "    file2, header2 = req.urlretrieve(html_url, html_path)\n",
    "except Exception as e :\n",
    "    print(e)\n",
    "else:\n",
    "    print(\"file1 {}\".format(file1))\n",
    "    print(\"file2 {}\".format(file2))"
   ]
  },
  {
   "attachments": {},
   "cell_type": "markdown",
   "metadata": {},
   "source": [
    "##### 다운로드는 필요없고 내용만 분석하고 싶을 때\n",
    "    - open(), read()"
   ]
  },
  {
   "cell_type": "code",
   "execution_count": null,
   "metadata": {},
   "outputs": [],
   "source": [
    "weather_url = \"https://www.kma.go.kr/weather/forecast/mid-term-rss3.jsp?stnId=109\"\n",
    "\n",
    "data = req.urlopen(weather_url).read()\n",
    "\n",
    "text = data.decode(\"utf-8\")\n",
    "\n",
    "print(text)"
   ]
  },
  {
   "cell_type": "code",
   "execution_count": null,
   "metadata": {},
   "outputs": [],
   "source": [
    "url = \"https://www.11st.co.kr/browsing/BestSeller.tmall?method=getBestSellerMain&xfrom=main^gnb\"\n",
    "\n",
    "try:\n",
    "    res = req.urlopen(url)\n",
    "    contents = res.read().decode(\"euc-kr\")\n",
    "except Exception as e :\n",
    "    print(e)\n",
    "else:\n",
    "    print(res.info())\n",
    "    print(contents[:4000])"
   ]
  },
  {
   "cell_type": "code",
   "execution_count": null,
   "metadata": {},
   "outputs": [],
   "source": [
    "# 네이버 뉴스 가져오기\n",
    "url = \"https://n.news.naver.com/article/417/0000933150?cds=news_media_pc&type=editn\"\n",
    "\n",
    "try:\n",
    "    res = req.urlopen(url)\n",
    "    contents = res.read().decode(\"utf-8\")\n",
    "except Exception as e :\n",
    "    print(e)\n",
    "else :\n",
    "    print(res.info())\n",
    "    print(contents[:4000])"
   ]
  },
  {
   "cell_type": "code",
   "execution_count": 11,
   "metadata": {},
   "outputs": [],
   "source": [
    "url = \"https://kobis.or.kr/kobisopenapi/webservice/rest/boxoffice/searchDailyBoxOfficeList.xml?key=f5eef3421c602c6cb7ea224104795888&targetDt=20230705\"\n",
    "\n",
    "try:\n",
    "    res = req.urlopen(url)\n",
    "    contents = res.read().decode(\"utf-8\")\n",
    "except Exception as e :\n",
    "    print(e)\n",
    "else :\n",
    "    with open(\"./movie.txt\",\"w\",encoding=\"utf-8\") as f:\n",
    "        f.write(contents)"
   ]
  },
  {
   "cell_type": "code",
   "execution_count": 15,
   "metadata": {},
   "outputs": [
    {
     "name": "stdout",
     "output_type": "stream",
     "text": [
      "Date: Thu, 06 Jul 2023 08:38:10 GMT\n",
      "Content-Type: text/html; charset=UTF-8\n",
      "Transfer-Encoding: chunked\n",
      "Connection: close\n",
      "Vary: Accept-Encoding\n",
      "Set-Cookie: page_uid=i6i9NlprvxsssNffuIdssssstc8-012756; path=/; domain=.naver.com\n",
      "Set-Cookie: _naver_usersession_=lnhrDAIWNxiUWjVoTMuTmw==; path=/; expires=Thu, 06-Jul-23 08:43:10 GMT; domain=.naver.com\n",
      "X-Frame-Options: SAMEORIGIN\n",
      "X-XSS-Protection: 1; report=/p/er/post/xss\n",
      "Cache-Control: no-cache, no-store, must-revalidate, max-age=0\n",
      "Pragma: no-cache\n",
      "Set-Cookie: nx_ssl=2; Domain=.naver.com; Path=/; Expires=Sat, 05-Aug-2023 08:38:10 GMT;\n",
      "Content-Security-Policy-Report-Only: default-src https: data: blob: 'unsafe-inline' 'unsafe-eval'; report-uri /p/er/post/csp\n",
      "Referrer-Policy: unsafe-url\n",
      "Vary: Accept-Encoding\n",
      "Server: nxg\n",
      "Accept-CH: Sec-CH-UA, Sec-CH-UA-Arch, Sec-CH-UA-Bitness, Sec-CH-UA-Full-Version-List, Sec-CH-UA-Mobile, Sec-CH-UA-Model, Sec-CH-UA-Platform, Sec-CH-UA-Platform-Version, Sec-CH-UA-WoW64\n",
      "\n",
      "\n",
      "<!doctype html> <html lang=\"ko\"><head> <meta charset=\"utf-8\"> <meta name=\"referrer\" content=\"always\">  <meta name=\"format-detection\" content=\"telephone=no,address=no,email=no\"> <meta name=\"viewport\" content=\"width=device-width,initial-scale=1.0,maximum-scale=2.0\"> <meta property=\"og:title\" content=\"축구 : 네이버 통합검색\"/> <meta property=\"og:image\" content=\"https://ssl.pstatic.net/sstatic/search/common/og_v3.png\"> <meta property=\"og:description\" content=\"'축구'의 네이버 통합검색 결과입니다.\"> <meta name=\"description\" lang=\"ko\" content=\"'축구'의 네이버 통합검색 결과입니다.\"> <title>축구 : 네이버 통합검색</title> <link rel=\"shortcut icon\" href=\"https://ssl.pstatic.net/sstatic/search/favicon/favicon_191118_pc.ico\">  <link rel=\"search\" type=\"application/opensearchdescription+xml\" href=\"https://ssl.pstatic.net/sstatic/search/opensearch-description.https.xml\" title=\"Naver\" /><script> if (top.frames.length!=0 || window!=top) window.open(location, \"_top\"); </script><link rel=\"stylesheet\" type=\"text/css\" href=\"https://ssl.pstatic.net/sstatic/search/pc/css/search1_230706.css\"> <link rel=\"stylesheet\" type=\"text/css\" href=\"https://ssl.pstatic.net/sstatic/search/pc/css/search2_230629.css\"> <link rel=\"stylesheet\" type=\"text/css\" href=\"https://ssl.pstatic.net/sstatic/search/pc/css/sp_autocomplete_220526.css\"><script> naver = window.naver || {}; naver.search = naver.search || {}; naver.search.abt_param = \"\"; </script><script> naver = window.naver || {}; naver.search = naver.search || {}; naver.search.error = (function () { var errorList = Array() ; return { add : function (s) { errorList.push(s) ; }, clear : function () { delete errorList ; }, get : function (s) { return errorList ; }, getString : function (d) { if (typeof d === 'undefined') d = '|' ; return errorList.join(d) ; } } })(); function nx_add_event_handler (event, func) { $Fn(func).attach(document, event) ; } function bt(id, after) { document.getElementById(id).src = after; } function document_write (s) { document.write(s) ; } </script><script> var _nx_js_load = (function () { var scrs = {} ; return function (script, callback) { scrs[script] = {} ; scrs[script].domscript = document.createElement('script'); scrs[script].domscript.src = script ; if (callback) scrs[script].callback = (callback instanceof Array) ? callback : [callback]; scrs[script].domscript.onloadDone = false; scrs[script].domscript.onload = function() { scrs[script].domscript.onloadDone = true; if (scrs[script].callback) { for (var i = 0; i < scrs[script].callback.length; i++) { scrs[script].callback[i]() ; } } scrs[script].domscript.onload = scrs[script].domscript.onreadystatechange = null; } ; scrs[script].domscript.onreadystatechange = function() { if ( (\"loaded\" === scrs[script].domscript.readyState || \"complete\" === scrs[script].domscript.readyState) && !scrs[script].domscript.onloadDone ) { scrs[script].domscript.onload(); } } ; document.getElementsByTagName('head')[0].appendChild(scrs[script].domscript); }; })() ; var nx_js_defer_load = (function() { var info = {} ; return function(scrname, callback, t) { var nx_load_once = (function() { return function(scrname) { if (info[scrname].t > 0) setTimeout(function() { _nx_js_load(scrname, info[scrname].callback) ; }, t) ; else _nx_js_load(scrname, info[scrname].callback) ; } ; })(); if (t < 0) t = 0 ; if (info[scrname]) { n = info[scrname].length; for (var i = 0; i < n; i++) { if (info[scrname][i] == callback) return ; } if (t < info[scrname].t) info[scrname].t = t ; } else { info[scrname] = {} ; info[scrname].callback = [] ; info[scrname].t = t ; jindo.$Fn(function() { nx_load_once(scrname) ; }).attach(window, \"load\") ; } info[scrname].callback.push(callback) ; }; })(); function nx_js_lazyload(scripts, onload, is_serial) { if (!(scripts instanceof Array)) { scripts = [scripts]; } if (is_serial) { function load_next() { if (scripts.length == 0) { onload(); return; } _nx_js_load( scripts.shift(), load_next ) ; } load_next(); } else { var load_check = function() { var num_js = scripts.length; return function() { \n"
     ]
    }
   ],
   "source": [
    "from urllib.parse import urlencode\n",
    "\n",
    "url = \"https://search.naver.com/search.naver?sm=tab_hty.top&where=nexearch&\"\n",
    "\n",
    "param = {\"query\" : \"축구\"}\n",
    "\n",
    "url += urlencode(param)\n",
    "\n",
    "try:\n",
    "    res = req.urlopen(url)\n",
    "    contents = res.read().decode(\"utf-8\")\n",
    "except Exception as e :\n",
    "    print(e)\n",
    "else :\n",
    "    print(res.info())\n",
    "    print(contents[:4000])"
   ]
  },
  {
   "cell_type": "code",
   "execution_count": 16,
   "metadata": {},
   "outputs": [],
   "source": [
    "# fake-useragent : useragent 유저인척 접근하기\n",
    "# 파이썬으로 크롤링 시 상대 서버는 파이썬 프로그램으로 요청이 들어온다는 걸 알게 됨\n",
    "# 요청을 브라우저로 하고 있다고 속여내는 방법"
   ]
  },
  {
   "cell_type": "code",
   "execution_count": 17,
   "metadata": {},
   "outputs": [
    {
     "name": "stdout",
     "output_type": "stream",
     "text": [
      "Mozilla/5.0 (compatible; MSIE 7.0; Windows NT 6.0; SLCC1; .NET CLR 2.0.50727; Media Center PC 5.0; c .NET CLR 3.0.04506; .NET CLR 3.5.30707; InfoPath.1; el-GR)\n",
      "Mozilla/5.0 (X11; CrOS i686 13.587.48) AppleWebKit/535.1 (KHTML, like Gecko) Chrome/13.0.782.43 Safari/535.1\n",
      "Mozilla/5.0 (Macintosh; U; Intel Mac OS X 10_5_4; en-gb) AppleWebKit/528.4+ (KHTML, like Gecko) Version/4.0dp1 Safari/526.11.2\n"
     ]
    }
   ],
   "source": [
    "from fake_useragent import UserAgent\n",
    "\n",
    "UserAgent = UserAgent()\n",
    "\n",
    "print(UserAgent.ie) # 인터넷 익스플로러\n",
    "print(UserAgent.chrome) # 크롬\n",
    "print(UserAgent.random)\n"
   ]
  },
  {
   "cell_type": "code",
   "execution_count": 20,
   "metadata": {},
   "outputs": [
    {
     "name": "stdout",
     "output_type": "stream",
     "text": [
      "response headers Date: Fri, 07 Jul 2023 00:56:36 GMT\n",
      "Content-Type: text/html;charset=UTF-8\n",
      "Content-Length: 92903\n",
      "Connection: close\n",
      "Strict-Transport-Security: max-age=15724800; includeSubDomains\n",
      "\n",
      "\n",
      "request headers [('Host', 'v.daum.net'), ('User-agent', 'Mozilla/5.0 (Windows NT 10.0; Win64; x64) AppleWebKit/537.36 (KHTML like Gecko) Chrome/46.0.2486.0 Safari/537.36 Edge/13.10586')]\n"
     ]
    }
   ],
   "source": [
    "from fake_useragent import UserAgent\n",
    "import urllib.request as req\n",
    "\n",
    "try : \n",
    "    UserAgent = UserAgent()\n",
    "\n",
    "    url = \"https://v.daum.net/v/20230707085248275\"\n",
    "\n",
    "    headers = {\n",
    "        \"user-agent\":UserAgent.random\n",
    "    }\n",
    "\n",
    "    request_url = req.Request(url,headers=headers)\n",
    "    # request_url = req.Request(url) # Python-urllib/3.11\n",
    "    info = req.urlopen(request_url)\n",
    "    res = info.read().decode(\"utf-8\")\n",
    "except Exception as e:\n",
    "    print(e)\n",
    "else :\n",
    "    print(\"response headers {}\".format(info.info()))\n",
    "    print(\"request headers {}\".format(request_url.header_items()))"
   ]
  },
  {
   "cell_type": "code",
   "execution_count": 23,
   "metadata": {},
   "outputs": [
    {
     "name": "stdout",
     "output_type": "stream",
     "text": [
      "{\"data\":[{\"rank\":1,\"rankChange\":0,\"symbolCode\":\"A035720\",\"code\":\"KR7035720002\",\"name\":\"카카오\",\"tradePrice\":50000,\"change\":\"FALL\",\"changePrice\":900,\"changeRate\":0.0176817289,\"chartSlideImage\":null,\"isNew\":false},{\"rank\":2,\"rankChange\":0,\"symbolCode\":\"A005930\",\"code\":\"KR7005930003\",\"name\":\"삼성전자\",\"tradePrice\":70100,\"change\":\"FALL\",\"changePrice\":1500,\"changeRate\":0.0209497207,\"chartSlideImage\":null,\"isNew\":false},{\"rank\":3,\"rankChange\":5,\"symbolCode\":\"A001570\",\"code\":\"KR7001570001\",\"name\":\"금양\",\"tradePrice\":80900,\"change\":\"RISE\",\"changePrice\":7300,\"changeRate\":0.0991847826,\"chartSlideImage\":null,\"isNew\":false},{\"rank\":4,\"rankChange\":-1,\"symbolCode\":\"A086520\",\"code\":\"KR7086520004\",\"name\":\"에코프로\",\"tradePrice\":954000,\"change\":\"RISE\",\"changePrice\":13000,\"changeRate\":0.0138150903,\"chartSlideImage\":null,\"isNew\":false},{\"rank\":5,\"rankChange\":5,\"symbolCode\":\"A010145\",\"code\":\"KR7010141000\",\"name\":\"삼성중공우\",\"tradePrice\":87100,\"change\":\"RISE\",\"changePrice\":61000,\"changeRate\":2.337164751,\"chartSlideImage\":null,\"isNew\":false},{\"rank\":6,\"rankChange\":0,\"symbolCode\":\"A001470\",\"code\":\"KR7001470004\",\"name\":\"삼부토건\",\"tradePrice\":3680,\"change\":\"RISE\",\"changePrice\":150,\"changeRate\":0.0424929178,\"chartSlideImage\":null,\"isNew\":true},{\"rank\":7,\"rankChange\":-3,\"symbolCode\":\"A305720\",\"code\":\"KR7305720005\",\"name\":\"KODEX 2차전지산업\",\"tradePrice\":28850,\"change\":\"RISE\",\"changePrice\":10,\"changeRate\":0.0003467406,\"chartSlideImage\":null,\"isNew\":false},{\"rank\":8,\"rankChange\":0,\"symbolCode\":\"A034020\",\"code\":\"KR7034020008\",\"name\":\"두산에너빌리티\",\"tradePrice\":17270,\"change\":\"FALL\",\"changePrice\":130,\"changeRate\":0.0074712644,\"chartSlideImage\":null,\"isNew\":true},{\"rank\":9,\"rankChange\":-4,\"symbolCode\":\"A091160\",\"code\":\"KR7091160002\",\"name\":\"KODEX 반도체\",\"tradePrice\":31190,\"change\":\"FALL\",\"changePrice\":420,\"changeRate\":0.0132869345,\"chartSlideImage\":null,\"isNew\":false},{\"rank\":10,\"rankChange\":0,\"symbolCode\":\"A232830\",\"code\":\"KR7232830000\",\"name\":\"시큐센\",\"tradePrice\":6270,\"change\":\"RISE\",\"changePrice\":960,\"changeRate\":0.1807909605,\"chartSlideImage\":null,\"isNew\":true}]}\n",
      "순위 : 1, 금액 : {'rank': 1, 'rankChange': 0, 'symbolCode': 'A035720', 'code': 'KR7035720002', 'name': '카카오', 'tradePrice': 50000, 'change': 'FALL', 'changePrice': 900, 'changeRate': 0.0176817289, 'chartSlideImage': None, 'isNew': False}, 회사명 : ['tradePrice']\n",
      "순위 : 2, 금액 : {'rank': 2, 'rankChange': 0, 'symbolCode': 'A005930', 'code': 'KR7005930003', 'name': '삼성전자', 'tradePrice': 70100, 'change': 'FALL', 'changePrice': 1500, 'changeRate': 0.0209497207, 'chartSlideImage': None, 'isNew': False}, 회사명 : ['tradePrice']\n",
      "순위 : 3, 금액 : {'rank': 3, 'rankChange': 5, 'symbolCode': 'A001570', 'code': 'KR7001570001', 'name': '금양', 'tradePrice': 80900, 'change': 'RISE', 'changePrice': 7300, 'changeRate': 0.0991847826, 'chartSlideImage': None, 'isNew': False}, 회사명 : ['tradePrice']\n",
      "순위 : 4, 금액 : {'rank': 4, 'rankChange': -1, 'symbolCode': 'A086520', 'code': 'KR7086520004', 'name': '에코프로', 'tradePrice': 954000, 'change': 'RISE', 'changePrice': 13000, 'changeRate': 0.0138150903, 'chartSlideImage': None, 'isNew': False}, 회사명 : ['tradePrice']\n",
      "순위 : 5, 금액 : {'rank': 5, 'rankChange': 5, 'symbolCode': 'A010145', 'code': 'KR7010141000', 'name': '삼성중공우', 'tradePrice': 87100, 'change': 'RISE', 'changePrice': 61000, 'changeRate': 2.337164751, 'chartSlideImage': None, 'isNew': False}, 회사명 : ['tradePrice']\n",
      "순위 : 6, 금액 : {'rank': 6, 'rankChange': 0, 'symbolCode': 'A001470', 'code': 'KR7001470004', 'name': '삼부토건', 'tradePrice': 3680, 'change': 'RISE', 'changePrice': 150, 'changeRate': 0.0424929178, 'chartSlideImage': None, 'isNew': True}, 회사명 : ['tradePrice']\n",
      "순위 : 7, 금액 : {'rank': 7, 'rankChange': -3, 'symbolCode': 'A305720', 'code': 'KR7305720005', 'name': 'KODEX 2차전지산업', 'tradePrice': 28850, 'change': 'RISE', 'changePrice': 10, 'changeRate': 0.0003467406, 'chartSlideImage': None, 'isNew': False}, 회사명 : ['tradePrice']\n",
      "순위 : 8, 금액 : {'rank': 8, 'rankChange': 0, 'symbolCode': 'A034020', 'code': 'KR7034020008', 'name': '두산에너빌리티', 'tradePrice': 17270, 'change': 'FALL', 'changePrice': 130, 'changeRate': 0.0074712644, 'chartSlideImage': None, 'isNew': True}, 회사명 : ['tradePrice']\n",
      "순위 : 9, 금액 : {'rank': 9, 'rankChange': -4, 'symbolCode': 'A091160', 'code': 'KR7091160002', 'name': 'KODEX 반도체', 'tradePrice': 31190, 'change': 'FALL', 'changePrice': 420, 'changeRate': 0.0132869345, 'chartSlideImage': None, 'isNew': False}, 회사명 : ['tradePrice']\n",
      "순위 : 10, 금액 : {'rank': 10, 'rankChange': 0, 'symbolCode': 'A232830', 'code': 'KR7232830000', 'name': '시큐센', 'tradePrice': 6270, 'change': 'RISE', 'changePrice': 960, 'changeRate': 0.1807909605, 'chartSlideImage': None, 'isNew': True}, 회사명 : ['tradePrice']\n"
     ]
    }
   ],
   "source": [
    "from fake_useragent import UserAgent\n",
    "import urllib.request as req\n",
    "import json\n",
    "import csv\n",
    "\n",
    "kosdaq = []\n",
    "\n",
    "try : \n",
    "    UserAgent = UserAgent()\n",
    "\n",
    "    url = \"https://finance.daum.net/api/search/ranks?limit=10\"\n",
    "\n",
    "    headers = {\n",
    "        \"user-agent\":UserAgent.random,\n",
    "        \"referer\" : \"https://finance.daum.net/\"\n",
    "    }\n",
    "\n",
    "    request_url = req.Request(url,headers=headers)\n",
    "    # request_url = req.Request(url) # Python-urllib/3.11\n",
    "    info = req.urlopen(request_url)\n",
    "    res = info.read().decode(\"utf-8\")\n",
    "except Exception as e:\n",
    "    print(e)\n",
    "else :\n",
    "    print(res)\n",
    "    data = json.loads(res)[\"data\"]\n",
    "\n",
    "    for item in data:\n",
    "        print(\"순위 : {}, 금액 : {}, 회사명 : {}\".format(item[\"rank\"],item,[\"tradePrice\"],item[\"name\"]))\n",
    "\n",
    "        kosdaq.append(item)\n",
    "\n",
    "        with open(\"./finance.csv\",\"w\",newline=\"\") as f:\n",
    "            output = csv.writer(f)\n",
    "            # 헤더명 작성\n",
    "            output.writerow(kosdaq[0].keys())\n",
    "\n",
    "            for row in kosdaq:\n",
    "                output.writerow(row.values())"
   ]
  },
  {
   "cell_type": "code",
   "execution_count": 24,
   "metadata": {},
   "outputs": [],
   "source": [
    "# requests 라이브러리를 이용한 크롤링\n",
    "# pip install requests\n",
    "# urllib.request 라이브러리보다 간단한 접근 방법 제공\n",
    "# 디코딩도 적절하게 작업해줌\n",
    "# json 처리도 편함"
   ]
  },
  {
   "cell_type": "code",
   "execution_count": null,
   "metadata": {},
   "outputs": [],
   "source": [
    "# get 방식\n",
    "import requests\n",
    "\n",
    "# 세션을 이용한 요청 가능\n",
    "s = requests.Session()\n",
    "\n",
    "r = s.get(\"https://www.naver.com\")\n",
    "\n",
    "print(r.status_code)\n",
    "print(r.ok)\n",
    "\n",
    "print(r.text)\n",
    "\n",
    "# 세션 종료\n",
    "s.close()"
   ]
  },
  {
   "cell_type": "code",
   "execution_count": 30,
   "metadata": {},
   "outputs": [
    {
     "name": "stdout",
     "output_type": "stream",
     "text": [
      "{\n",
      "  \"args\": {}, \n",
      "  \"headers\": {\n",
      "    \"Accept\": \"*/*\", \n",
      "    \"Accept-Encoding\": \"gzip, deflate\", \n",
      "    \"Host\": \"httpbin.org\", \n",
      "    \"User-Agent\": \"python-requests/2.31.0\", \n",
      "    \"X-Amzn-Trace-Id\": \"Root=1-64a770bc-2f999e7a704a711b30fb8fca\"\n",
      "  }, \n",
      "  \"origin\": \"121.160.41.162\", \n",
      "  \"url\": \"https://httpbin.org/get\"\n",
      "}\n",
      "\n"
     ]
    }
   ],
   "source": [
    "# get / post / put /delete 함수 제공함\n",
    "\n",
    "import requests\n",
    "\n",
    "s = requests.Session()\n",
    "\n",
    "r = s.get(\"https://httpbin.org/get\")\n",
    "\n",
    "print(r.text)\n",
    "\n",
    "s.close()"
   ]
  },
  {
   "cell_type": "code",
   "execution_count": 32,
   "metadata": {},
   "outputs": [
    {
     "name": "stdout",
     "output_type": "stream",
     "text": [
      "{\n",
      "  \"args\": {}, \n",
      "  \"data\": \"\", \n",
      "  \"files\": {}, \n",
      "  \"form\": {\n",
      "    \"name\": \"hong\"\n",
      "  }, \n",
      "  \"headers\": {\n",
      "    \"Accept\": \"*/*\", \n",
      "    \"Accept-Encoding\": \"gzip, deflate\", \n",
      "    \"Content-Length\": \"9\", \n",
      "    \"Content-Type\": \"application/x-www-form-urlencoded\", \n",
      "    \"Host\": \"httpbin.org\", \n",
      "    \"User-Agent\": \"python-requests/2.31.0\", \n",
      "    \"X-Amzn-Trace-Id\": \"Root=1-64a77152-0a28e7bb715fd21273b3c8ad\"\n",
      "  }, \n",
      "  \"json\": null, \n",
      "  \"origin\": \"121.160.41.162\", \n",
      "  \"url\": \"https://httpbin.org/post\"\n",
      "}\n",
      "\n"
     ]
    }
   ],
   "source": [
    "import requests\n",
    "\n",
    "s = requests.Session()\n",
    "\n",
    "# post + data \n",
    "data = {\n",
    "    \"name\":\"hong\"\n",
    "}\n",
    "r = s.post(\"https://httpbin.org/post\",data=data)\n",
    "\n",
    "print(r.text)\n",
    "\n",
    "s.close()"
   ]
  },
  {
   "cell_type": "code",
   "execution_count": 33,
   "metadata": {},
   "outputs": [
    {
     "name": "stdout",
     "output_type": "stream",
     "text": [
      "{\n",
      "  \"args\": {}, \n",
      "  \"data\": \"\", \n",
      "  \"files\": {}, \n",
      "  \"form\": {\n",
      "    \"name\": \"hong\"\n",
      "  }, \n",
      "  \"headers\": {\n",
      "    \"Accept\": \"*/*\", \n",
      "    \"Accept-Encoding\": \"gzip, deflate\", \n",
      "    \"Content-Length\": \"9\", \n",
      "    \"Content-Type\": \"application/x-www-form-urlencoded\", \n",
      "    \"Host\": \"httpbin.org\", \n",
      "    \"User-Agent\": \"python-requests/2.31.0\", \n",
      "    \"X-Amzn-Trace-Id\": \"Root=1-64a771f5-7645d148504eac7c74a4ce55\"\n",
      "  }, \n",
      "  \"json\": null, \n",
      "  \"origin\": \"121.160.41.162\", \n",
      "  \"url\": \"https://httpbin.org/delete\"\n",
      "}\n",
      "\n"
     ]
    }
   ],
   "source": [
    "import requests\n",
    "\n",
    "s = requests.Session()\n",
    "\n",
    "# delete + data \n",
    "data = {\n",
    "    \"name\":\"hong\"\n",
    "}\n",
    "r = s.delete(\"https://httpbin.org/delete\",data=data)\n",
    "\n",
    "print(r.text)\n",
    "\n",
    "s.close()"
   ]
  },
  {
   "cell_type": "code",
   "execution_count": 34,
   "metadata": {},
   "outputs": [
    {
     "name": "stdout",
     "output_type": "stream",
     "text": [
      "{\n",
      "  \"args\": {}, \n",
      "  \"data\": \"\", \n",
      "  \"files\": {}, \n",
      "  \"form\": {\n",
      "    \"name\": \"hong\"\n",
      "  }, \n",
      "  \"headers\": {\n",
      "    \"Accept\": \"*/*\", \n",
      "    \"Accept-Encoding\": \"gzip, deflate\", \n",
      "    \"Content-Length\": \"9\", \n",
      "    \"Content-Type\": \"application/x-www-form-urlencoded\", \n",
      "    \"Host\": \"httpbin.org\", \n",
      "    \"User-Agent\": \"python-requests/2.31.0\", \n",
      "    \"X-Amzn-Trace-Id\": \"Root=1-64a77241-7fc42705685661dc5e31abd8\"\n",
      "  }, \n",
      "  \"json\": null, \n",
      "  \"origin\": \"121.160.41.162\", \n",
      "  \"url\": \"https://httpbin.org/put\"\n",
      "}\n",
      "\n"
     ]
    }
   ],
   "source": [
    "import requests\n",
    "\n",
    "s = requests.Session()\n",
    "\n",
    "# put + data \n",
    "data = {\n",
    "    \"name\":\"hong\"\n",
    "}\n",
    "r = s.put(\"https://httpbin.org/put\",data=data)\n",
    "\n",
    "print(r.text)\n",
    "\n",
    "s.close()"
   ]
  },
  {
   "cell_type": "code",
   "execution_count": 36,
   "metadata": {},
   "outputs": [
    {
     "name": "stdout",
     "output_type": "stream",
     "text": [
      "{\n",
      "  \"args\": {\n",
      "    \"age\": \"14\", \n",
      "    \"name\": \"hong\"\n",
      "  }, \n",
      "  \"headers\": {\n",
      "    \"Accept\": \"*/*\", \n",
      "    \"Accept-Encoding\": \"gzip, deflate\", \n",
      "    \"Host\": \"httpbin.org\", \n",
      "    \"User-Agent\": \"python-requests/2.31.0\", \n",
      "    \"X-Amzn-Trace-Id\": \"Root=1-64a772df-67a587666034bd5f1f8ff2e0\"\n",
      "  }, \n",
      "  \"origin\": \"121.160.41.162\", \n",
      "  \"url\": \"https://httpbin.org/get?name=hong&age=14\"\n",
      "}\n",
      "\n"
     ]
    }
   ],
   "source": [
    "# get + parameter ?name=hong&age=14\n",
    "\n",
    "import requests\n",
    "\n",
    "s = requests.Session()\n",
    "\n",
    "param = {\"name\":\"hong\",\"age\":14}\n",
    "\n",
    "r = s.get(\"https://httpbin.org/get\",params=param)\n",
    "\n",
    "print(r.text)\n",
    "\n",
    "s.close()"
   ]
  },
  {
   "cell_type": "code",
   "execution_count": 2,
   "metadata": {},
   "outputs": [
    {
     "name": "stdout",
     "output_type": "stream",
     "text": [
      "{\n",
      "  \"userId\": 1,\n",
      "  \"id\": 1,\n",
      "  \"title\": \"delectus aut autem\",\n",
      "  \"completed\": false\n",
      "}\n",
      "{'userId': 1, 'id': 1, 'title': 'delectus aut autem', 'completed': False}\n"
     ]
    }
   ],
   "source": [
    "import requests\n",
    "\n",
    "r = requests.get(\"https://jsonplaceholder.typicode.com/todos/1\")\n",
    "\n",
    "# print(r.headers)\n",
    "# print(r.encoding)\n",
    "print(r.text)\n",
    "print(r.json())\n",
    "# print(r.json().keys())\n",
    "# print(r.json().values())\n"
   ]
  },
  {
   "cell_type": "code",
   "execution_count": 47,
   "metadata": {},
   "outputs": [
    {
     "name": "stdout",
     "output_type": "stream",
     "text": [
      "id : 1\n",
      "name : Leanne Graham\n",
      "username : Bret\n",
      "email : Sincere@april.biz\n",
      "address : {'street': 'Kulas Light', 'suite': 'Apt. 556', 'city': 'Gwenborough', 'zipcode': '92998-3874', 'geo': {'lat': '-37.3159', 'lng': '81.1496'}}\n",
      "phone : 1-770-736-8031 x56442\n",
      "website : hildegard.org\n",
      "company : {'name': 'Romaguera-Crona', 'catchPhrase': 'Multi-layered client-server neural-net', 'bs': 'harness real-time e-markets'}\n",
      "\n",
      "id : 2\n",
      "name : Ervin Howell\n",
      "username : Antonette\n",
      "email : Shanna@melissa.tv\n",
      "address : {'street': 'Victor Plains', 'suite': 'Suite 879', 'city': 'Wisokyburgh', 'zipcode': '90566-7771', 'geo': {'lat': '-43.9509', 'lng': '-34.4618'}}\n",
      "phone : 010-692-6593 x09125\n",
      "website : anastasia.net\n",
      "company : {'name': 'Deckow-Crist', 'catchPhrase': 'Proactive didactic contingency', 'bs': 'synergize scalable supply-chains'}\n",
      "\n",
      "id : 3\n",
      "name : Clementine Bauch\n",
      "username : Samantha\n",
      "email : Nathan@yesenia.net\n",
      "address : {'street': 'Douglas Extension', 'suite': 'Suite 847', 'city': 'McKenziehaven', 'zipcode': '59590-4157', 'geo': {'lat': '-68.6102', 'lng': '-47.0653'}}\n",
      "phone : 1-463-123-4447\n",
      "website : ramiro.info\n",
      "company : {'name': 'Romaguera-Jacobson', 'catchPhrase': 'Face to face bifurcated interface', 'bs': 'e-enable strategic applications'}\n",
      "\n",
      "id : 4\n",
      "name : Patricia Lebsack\n",
      "username : Karianne\n",
      "email : Julianne.OConner@kory.org\n",
      "address : {'street': 'Hoeger Mall', 'suite': 'Apt. 692', 'city': 'South Elvis', 'zipcode': '53919-4257', 'geo': {'lat': '29.4572', 'lng': '-164.2990'}}\n",
      "phone : 493-170-9623 x156\n",
      "website : kale.biz\n",
      "company : {'name': 'Robel-Corkery', 'catchPhrase': 'Multi-tiered zero tolerance productivity', 'bs': 'transition cutting-edge web services'}\n",
      "\n",
      "id : 5\n",
      "name : Chelsey Dietrich\n",
      "username : Kamren\n",
      "email : Lucio_Hettinger@annie.ca\n",
      "address : {'street': 'Skiles Walks', 'suite': 'Suite 351', 'city': 'Roscoeview', 'zipcode': '33263', 'geo': {'lat': '-31.8129', 'lng': '62.5342'}}\n",
      "phone : (254)954-1289\n",
      "website : demarco.info\n",
      "company : {'name': 'Keebler LLC', 'catchPhrase': 'User-centric fault-tolerant solution', 'bs': 'revolutionize end-to-end systems'}\n",
      "\n",
      "id : 6\n",
      "name : Mrs. Dennis Schulist\n",
      "username : Leopoldo_Corkery\n",
      "email : Karley_Dach@jasper.info\n",
      "address : {'street': 'Norberto Crossing', 'suite': 'Apt. 950', 'city': 'South Christy', 'zipcode': '23505-1337', 'geo': {'lat': '-71.4197', 'lng': '71.7478'}}\n",
      "phone : 1-477-935-8478 x6430\n",
      "website : ola.org\n",
      "company : {'name': 'Considine-Lockman', 'catchPhrase': 'Synchronised bottom-line interface', 'bs': 'e-enable innovative applications'}\n",
      "\n",
      "id : 7\n",
      "name : Kurtis Weissnat\n",
      "username : Elwyn.Skiles\n",
      "email : Telly.Hoeger@billy.biz\n",
      "address : {'street': 'Rex Trail', 'suite': 'Suite 280', 'city': 'Howemouth', 'zipcode': '58804-1099', 'geo': {'lat': '24.8918', 'lng': '21.8984'}}\n",
      "phone : 210.067.6132\n",
      "website : elvis.io\n",
      "company : {'name': 'Johns Group', 'catchPhrase': 'Configurable multimedia task-force', 'bs': 'generate enterprise e-tailers'}\n",
      "\n",
      "id : 8\n",
      "name : Nicholas Runolfsdottir V\n",
      "username : Maxime_Nienow\n",
      "email : Sherwood@rosamond.me\n",
      "address : {'street': 'Ellsworth Summit', 'suite': 'Suite 729', 'city': 'Aliyaview', 'zipcode': '45169', 'geo': {'lat': '-14.3990', 'lng': '-120.7677'}}\n",
      "phone : 586.493.6943 x140\n",
      "website : jacynthe.com\n",
      "company : {'name': 'Abernathy Group', 'catchPhrase': 'Implemented secondary concept', 'bs': 'e-enable extensible e-tailers'}\n",
      "\n",
      "id : 9\n",
      "name : Glenna Reichert\n",
      "username : Delphine\n",
      "email : Chaim_McDermott@dana.io\n",
      "address : {'street': 'Dayna Park', 'suite': 'Suite 449', 'city': 'Bartholomebury', 'zipcode': '76495-3109', 'geo': {'lat': '24.6463', 'lng': '-168.8889'}}\n",
      "phone : (775)976-6794 x41206\n",
      "website : conrad.com\n",
      "company : {'name': 'Yost and Sons', 'catchPhrase': 'Switchable contextually-based project', 'bs': 'aggregate real-time technologies'}\n",
      "\n",
      "id : 10\n",
      "name : Clementina DuBuque\n",
      "username : Moriah.Stanton\n",
      "email : Rey.Padberg@karina.biz\n",
      "address : {'street': 'Kattie Turnpike', 'suite': 'Suite 198', 'city': 'Lebsackbury', 'zipcode': '31428-2261', 'geo': {'lat': '-38.2386', 'lng': '57.2232'}}\n",
      "phone : 024-648-3804\n",
      "website : ambrose.net\n",
      "company : {'name': 'Hoeger LLC', 'catchPhrase': 'Centralized empowering task-force', 'bs': 'target end-to-end models'}\n",
      "\n"
     ]
    }
   ],
   "source": [
    "r = requests.get(\"https://jsonplaceholder.typicode.com/users\")\n",
    "\n",
    "for row in r.json():\n",
    "    for k,v in row.items():\n",
    "        print(k,\":\",v)\n",
    "    print()"
   ]
  },
  {
   "cell_type": "code",
   "execution_count": 49,
   "metadata": {},
   "outputs": [
    {
     "name": "stdout",
     "output_type": "stream",
     "text": [
      "[{'id': 1, 'name': 'Leanne Graham', 'username': 'Bret', 'email': 'Sincere@april.biz', 'address': {'street': 'Kulas Light', 'suite': 'Apt. 556', 'city': 'Gwenborough', 'zipcode': '92998-3874', 'geo': {'lat': '-37.3159', 'lng': '81.1496'}}, 'phone': '1-770-736-8031 x56442', 'website': 'hildegard.org', 'company': {'name': 'Romaguera-Crona', 'catchPhrase': 'Multi-layered client-server neural-net', 'bs': 'harness real-time e-markets'}}, {'id': 2, 'name': 'Ervin Howell', 'username': 'Antonette', 'email': 'Shanna@melissa.tv', 'address': {'street': 'Victor Plains', 'suite': 'Suite 879', 'city': 'Wisokyburgh', 'zipcode': '90566-7771', 'geo': {'lat': '-43.9509', 'lng': '-34.4618'}}, 'phone': '010-692-6593 x09125', 'website': 'anastasia.net', 'company': {'name': 'Deckow-Crist', 'catchPhrase': 'Proactive didactic contingency', 'bs': 'synergize scalable supply-chains'}}, {'id': 3, 'name': 'Clementine Bauch', 'username': 'Samantha', 'email': 'Nathan@yesenia.net', 'address': {'street': 'Douglas Extension', 'suite': 'Suite 847', 'city': 'McKenziehaven', 'zipcode': '59590-4157', 'geo': {'lat': '-68.6102', 'lng': '-47.0653'}}, 'phone': '1-463-123-4447', 'website': 'ramiro.info', 'company': {'name': 'Romaguera-Jacobson', 'catchPhrase': 'Face to face bifurcated interface', 'bs': 'e-enable strategic applications'}}, {'id': 4, 'name': 'Patricia Lebsack', 'username': 'Karianne', 'email': 'Julianne.OConner@kory.org', 'address': {'street': 'Hoeger Mall', 'suite': 'Apt. 692', 'city': 'South Elvis', 'zipcode': '53919-4257', 'geo': {'lat': '29.4572', 'lng': '-164.2990'}}, 'phone': '493-170-9623 x156', 'website': 'kale.biz', 'company': {'name': 'Robel-Corkery', 'catchPhrase': 'Multi-tiered zero tolerance productivity', 'bs': 'transition cutting-edge web services'}}, {'id': 5, 'name': 'Chelsey Dietrich', 'username': 'Kamren', 'email': 'Lucio_Hettinger@annie.ca', 'address': {'street': 'Skiles Walks', 'suite': 'Suite 351', 'city': 'Roscoeview', 'zipcode': '33263', 'geo': {'lat': '-31.8129', 'lng': '62.5342'}}, 'phone': '(254)954-1289', 'website': 'demarco.info', 'company': {'name': 'Keebler LLC', 'catchPhrase': 'User-centric fault-tolerant solution', 'bs': 'revolutionize end-to-end systems'}}, {'id': 6, 'name': 'Mrs. Dennis Schulist', 'username': 'Leopoldo_Corkery', 'email': 'Karley_Dach@jasper.info', 'address': {'street': 'Norberto Crossing', 'suite': 'Apt. 950', 'city': 'South Christy', 'zipcode': '23505-1337', 'geo': {'lat': '-71.4197', 'lng': '71.7478'}}, 'phone': '1-477-935-8478 x6430', 'website': 'ola.org', 'company': {'name': 'Considine-Lockman', 'catchPhrase': 'Synchronised bottom-line interface', 'bs': 'e-enable innovative applications'}}, {'id': 7, 'name': 'Kurtis Weissnat', 'username': 'Elwyn.Skiles', 'email': 'Telly.Hoeger@billy.biz', 'address': {'street': 'Rex Trail', 'suite': 'Suite 280', 'city': 'Howemouth', 'zipcode': '58804-1099', 'geo': {'lat': '24.8918', 'lng': '21.8984'}}, 'phone': '210.067.6132', 'website': 'elvis.io', 'company': {'name': 'Johns Group', 'catchPhrase': 'Configurable multimedia task-force', 'bs': 'generate enterprise e-tailers'}}, {'id': 8, 'name': 'Nicholas Runolfsdottir V', 'username': 'Maxime_Nienow', 'email': 'Sherwood@rosamond.me', 'address': {'street': 'Ellsworth Summit', 'suite': 'Suite 729', 'city': 'Aliyaview', 'zipcode': '45169', 'geo': {'lat': '-14.3990', 'lng': '-120.7677'}}, 'phone': '586.493.6943 x140', 'website': 'jacynthe.com', 'company': {'name': 'Abernathy Group', 'catchPhrase': 'Implemented secondary concept', 'bs': 'e-enable extensible e-tailers'}}, {'id': 9, 'name': 'Glenna Reichert', 'username': 'Delphine', 'email': 'Chaim_McDermott@dana.io', 'address': {'street': 'Dayna Park', 'suite': 'Suite 449', 'city': 'Bartholomebury', 'zipcode': '76495-3109', 'geo': {'lat': '24.6463', 'lng': '-168.8889'}}, 'phone': '(775)976-6794 x41206', 'website': 'conrad.com', 'company': {'name': 'Yost and Sons', 'catchPhrase': 'Switchable contextually-based project', 'bs': 'aggregate real-time technologies'}}, {'id': 10, 'name': 'Clementina DuBuque', 'username': 'Moriah.Stanton', 'email': 'Rey.Padberg@karina.biz', 'address': {'street': 'Kattie Turnpike', 'suite': 'Suite 198', 'city': 'Lebsackbury', 'zipcode': '31428-2261', 'geo': {'lat': '-38.2386', 'lng': '57.2232'}}, 'phone': '024-648-3804', 'website': 'ambrose.net', 'company': {'name': 'Hoeger LLC', 'catchPhrase': 'Centralized empowering task-force', 'bs': 'target end-to-end models'}}]\n"
     ]
    }
   ],
   "source": [
    "from fake_useragent import UserAgent\n",
    "\n",
    "UserAgent = UserAgent()\n",
    "\n",
    "headers = {\n",
    "    \"user-agent\":UserAgent.chrome\n",
    "}\n",
    "r = requests.get(\"https://jsonplaceholder.typicode.com/users\",headers=headers)\n",
    "print(r.json())"
   ]
  },
  {
   "cell_type": "code",
   "execution_count": null,
   "metadata": {},
   "outputs": [],
   "source": [
    "# 다음 쇼핑몰 베스트 100 데이터 요청\n",
    "# requests 라이브러리 사용 / json 데이터 처리\n",
    "# 순위, 상품명, 가격\n",
    "r = requests.get(\"https://shoppinghow.kakao.com/siso/p/api/bestRank/dispprodbest?vCateId=GMP&durationDays=30&count=100&_=1688697724604\")\n",
    "# print(r.json())\n",
    "\n",
    "for idx,product in enumerate(r.json(),start=1):\n",
    "    print(idx,product[\"product_name\"],product[\"price_max\"])"
   ]
  },
  {
   "cell_type": "code",
   "execution_count": null,
   "metadata": {},
   "outputs": [],
   "source": []
  }
 ],
 "metadata": {
  "kernelspec": {
   "display_name": "pythonsource",
   "language": "python",
   "name": "python3"
  },
  "language_info": {
   "codemirror_mode": {
    "name": "ipython",
    "version": 3
   },
   "file_extension": ".py",
   "mimetype": "text/x-python",
   "name": "python",
   "nbconvert_exporter": "python",
   "pygments_lexer": "ipython3",
   "version": "3.11.4"
  },
  "orig_nbformat": 4
 },
 "nbformat": 4,
 "nbformat_minor": 2
}
