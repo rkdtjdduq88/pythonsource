{
 "cells": [
  {
   "cell_type": "code",
   "execution_count": 10,
   "metadata": {},
   "outputs": [],
   "source": [
    "# 라이브러리 로드\n",
    "from openpyxl import Workbook"
   ]
  },
  {
   "cell_type": "code",
   "execution_count": 2,
   "metadata": {},
   "outputs": [
    {
     "data": {
      "text/plain": [
       "<bound method Workbook.close of <openpyxl.workbook.workbook.Workbook object at 0x00000284CE5CF8D0>>"
      ]
     },
     "execution_count": 2,
     "metadata": {},
     "output_type": "execute_result"
    }
   ],
   "source": [
    "wb = Workbook() # 워크북 객체 생성\n",
    "\n",
    "ws = wb.active # 활성화된 워크 시트 가져오기\n",
    "ws.title = \"test\"\n",
    "\n",
    "wb.save(\"sample1.xlsx\")\n",
    "wb.close"
   ]
  },
  {
   "cell_type": "code",
   "execution_count": 3,
   "metadata": {},
   "outputs": [],
   "source": [
    "wb = Workbook()\n",
    "\n",
    "# 새로운 시트 생성\n",
    "ws = wb.create_sheet()\n",
    "ws.title = \"MySheet\""
   ]
  },
  {
   "cell_type": "code",
   "execution_count": 8,
   "metadata": {},
   "outputs": [
    {
     "name": "stdout",
     "output_type": "stream",
     "text": [
      "['Sheet', 'MySheet', '급여명세2', '급여명세1', '급여명세', 'Copied Sheet', 'Copied Sheet1']\n"
     ]
    }
   ],
   "source": [
    "ws.sheet_properties.tabColor = \"ff66ff\"\n",
    "\n",
    "ws2 = wb.create_sheet(\"급여명세\",2)\n",
    "\n",
    "# 특정 시트에 접근\n",
    "sheet1 = wb[\"MySheet\"]\n",
    "sheet1[\"A1\"] = \"Test\"\n",
    "\n",
    "# 생성된 모든 시트의 이름 출력\n",
    "print(wb.sheetnames)\n",
    "\n",
    "# sheet 복사\n",
    "target = wb.copy_worksheet(sheet1)\n",
    "target.title = \"Copied Sheet\"\n",
    "\n",
    "wb.save(\"sample2.xlsx\")\n",
    "wb.close()"
   ]
  },
  {
   "cell_type": "code",
   "execution_count": 11,
   "metadata": {},
   "outputs": [
    {
     "name": "stdout",
     "output_type": "stream",
     "text": [
      "<Cell 'Test'.A2>\n",
      "2\n",
      "<Cell 'Test'.A1>\n"
     ]
    }
   ],
   "source": [
    "\n",
    "from random import *\n",
    "\n",
    "wb = Workbook()\n",
    "ws = wb.active\n",
    "ws.title = \"Test\"\n",
    "\n",
    "# A1 셀에 1이라는 값 입력\n",
    "ws[\"A1\"]=1\n",
    "ws[\"A2\"]=2\n",
    "ws[\"A3\"]=3\n",
    "\n",
    "# B1 ~ B3 숫자 입력\n",
    "ws[\"B1\"]=4\n",
    "ws[\"B2\"]=5\n",
    "ws[\"B3\"]=6\n",
    "\n",
    "# 특정 셀 정보 출력\n",
    "print(ws[\"A2\"])\n",
    "print(ws[\"A2\"].value)\n",
    "\n",
    "# 셀에 접근하는 두번째 방법\n",
    "# row = 1,2,3....\n",
    "# colomn = A,B....\n",
    "\n",
    "print(ws.cell(row=1,column=1)) # ws[\"A1\"]\n",
    "\n",
    "# 반복문을 사용해서 랜덤 숫자 채우기\n",
    "for x in range(1,11):\n",
    "    for y in range(1,11):\n",
    "        ws.cell(row=x, column=y, value=randint(0,100))\n",
    "\n",
    "wb.save(\"sample1.xlsx\")\n",
    "wb.close()"
   ]
  },
  {
   "cell_type": "code",
   "execution_count": 13,
   "metadata": {},
   "outputs": [
    {
     "name": "stdout",
     "output_type": "stream",
     "text": [
      "98 48 38 17 90 9 8 53 21 63 \n",
      "12 5 16 49 54 85 71 46 90 34 \n",
      "90 4 84 50 12 29 30 11 99 17 \n",
      "63 62 50 68 11 78 9 52 46 56 \n",
      "23 96 46 71 20 11 70 19 71 88 \n",
      "70 19 65 4 99 76 68 28 84 7 \n",
      "33 88 27 59 51 19 49 32 10 62 \n",
      "96 66 26 25 53 13 74 90 43 78 \n",
      "71 52 6 67 72 66 90 6 9 66 \n",
      "76 32 33 11 47 51 34 17 29 35 \n"
     ]
    }
   ],
   "source": [
    "# 엑셀 파일 불러오기\n",
    "\n",
    "from openpyxl import load_workbook\n",
    "\n",
    "wb = load_workbook(\"sample1.xlsx\")\n",
    "ws = wb.active\n",
    "\n",
    "# 시트 안에 들어있는 데이터의 갯수를 정확하게 알고 있을 때 \n",
    "# for x in range(1,11):\n",
    "#     for y in range(1,11):\n",
    "#         print(ws.cell(row=x, column=y).value, end=\" \")\n",
    "#     print()\n",
    "\n",
    "# max_row / max_column\n",
    "for x in range(1,ws.max_row+1):\n",
    "    for y in range(1,ws.max_column+1):\n",
    "        print(ws.cell(row=x, column=y).value, end=\" \")\n",
    "    print()\n",
    "\n",
    "wb.close() "
   ]
  },
  {
   "cell_type": "code",
   "execution_count": 23,
   "metadata": {},
   "outputs": [
    {
     "name": "stdout",
     "output_type": "stream",
     "text": [
      "(<Cell 'Sheet'.B1>, <Cell 'Sheet'.B2>, <Cell 'Sheet'.B3>, <Cell 'Sheet'.B4>, <Cell 'Sheet'.B5>, <Cell 'Sheet'.B6>, <Cell 'Sheet'.B7>, <Cell 'Sheet'.B8>, <Cell 'Sheet'.B9>, <Cell 'Sheet'.B10>, <Cell 'Sheet'.B11>)\n",
      "영어\n",
      "90\n",
      "82\n",
      "8\n",
      "22\n",
      "7\n",
      "84\n",
      "89\n",
      "22\n",
      "4\n",
      "61\n",
      "영어 90 82 8 22 7 84 89 22 4 61 \n",
      "수학 99 50 69 13 24 18 72 21 3 18 \n",
      "1 90 99 \n",
      "2 82 50 \n",
      "3 8 69 \n",
      "4 22 13 \n",
      "5 7 24 \n",
      "6 84 18 \n"
     ]
    }
   ],
   "source": [
    "from openpyxl import Workbook, load_workbook\n",
    "\n",
    "wb = Workbook()\n",
    "ws = wb.active\n",
    "\n",
    "# 리스트 형태로 데이터 삽입\n",
    "# 리스트 [] : 아무거나 담을 수 있음\n",
    "\n",
    "ws.append([\"번호\",\"영어\",\"수학\"])\n",
    "for i in range(1, 11):\n",
    "    ws.append([i,randint(0,100),randint(0,100)])\n",
    "\n",
    "# 특정 과목 - 영어 컬럼만 가져오기\n",
    "print(ws['B'])\n",
    "\n",
    "for cell in ws['B']:\n",
    "    print(cell.value)\n",
    "\n",
    "for cols in ws['B:C']:\n",
    "    for cell in cols:\n",
    "        print(cell.value, end=\" \")\n",
    "    print()\n",
    "\n",
    "for rows in ws['2:7']:\n",
    "    for cell in rows:\n",
    "        print(cell.value, end=\" \")\n",
    "    print()\n",
    "\n",
    "# iter_rows() : 전체 rows 를 가져오는 함수, iter_cols() : 전체 cols 가져오는 함수\n",
    "wb.save(\"range.xlsx\")\n",
    "wb.close()"
   ]
  },
  {
   "cell_type": "code",
   "execution_count": 29,
   "metadata": {},
   "outputs": [
    {
     "name": "stdout",
     "output_type": "stream",
     "text": [
      "1 번 학생의 영어 점수는  90 입니다\n",
      "2 번 학생의 영어 점수는  82 입니다\n",
      "6 번 학생의 영어 점수는  84 입니다\n",
      "7 번 학생의 영어 점수는  89 입니다\n"
     ]
    }
   ],
   "source": [
    "# range.xlsx 읽기\n",
    "wb = load_workbook(\"range.xlsx\")\n",
    "ws = wb.active\n",
    "\n",
    "for row in ws.iter_rows(min_row=2):\n",
    "    if int(row[1].value) > 80:\n",
    "        print(row[0].value, \"번 학생의 영어 점수는 \", row[1].value, \"입니다\")\n",
    "\n",
    "# 영어 과목명을 컴퓨터로 변경 후 새로운 엑셀 파일로 저장\n",
    "for row in ws.iter_rows(max_row=1):\n",
    "    for cell in row:\n",
    "        if cell.value == \"영어\":\n",
    "            cell.value = \"컴퓨터\"\n",
    "\n",
    "wb.save(\"range_modified.xlsx\")\n",
    "wb.close()"
   ]
  },
  {
   "cell_type": "code",
   "execution_count": null,
   "metadata": {},
   "outputs": [],
   "source": []
  },
  {
   "cell_type": "code",
   "execution_count": 32,
   "metadata": {},
   "outputs": [],
   "source": [
    "# 행, 열, 삽입\n",
    "wb = load_workbook(\"range.xlsx\")\n",
    "ws = wb.active\n",
    "\n",
    "\n",
    "#ws.insert_rows(8)\n",
    "\n",
    "ws.insert_rows(8,5)\n",
    "\n",
    "ws.insert_cols(2,3)\n",
    "\n",
    "wb.save(\"range_insert.xlsx\")\n",
    "wb.close()"
   ]
  },
  {
   "cell_type": "code",
   "execution_count": 34,
   "metadata": {},
   "outputs": [],
   "source": [
    "# 행, 열, 삽입\n",
    "wb = load_workbook(\"range.xlsx\")\n",
    "ws = wb.active\n",
    "\n",
    "ws.delete_rows(8)\n",
    "ws.delete_cols(1,2)\n",
    "\n",
    "wb.save(\"range_insert.xlsx\")\n",
    "wb.close()"
   ]
  },
  {
   "cell_type": "code",
   "execution_count": 36,
   "metadata": {},
   "outputs": [],
   "source": [
    "# 차트 작성\n",
    "from openpyxl.chart import BarChart, Reference\n",
    "\n",
    "wb = load_workbook(\"range.xlsx\")\n",
    "ws = wb.active\n",
    "\n",
    "# 범위 지정\n",
    "bar_value = Reference(ws, min_row=1, max_row=11, min_col=2, max_col=3)\n",
    "# 차트 종류 지정\n",
    "bar_chart = BarChart()\n",
    "# 차트 데이터 추가(titles_from_data : 범위에 제목 행 들어가 있는 경우)\n",
    "bar_chart.add_data(bar_value,titles_from_data=True)\n",
    "\n",
    "ws.add_chart(bar_chart, \"E1\")\n",
    "\n",
    "wb.save(\"range_chart.xlsx\")\n",
    "wb.close()\n"
   ]
  },
  {
   "cell_type": "code",
   "execution_count": 38,
   "metadata": {},
   "outputs": [],
   "source": [
    "# 차트 작성\n",
    "from openpyxl.chart import LineChart, Reference\n",
    "\n",
    "wb = load_workbook(\"range.xlsx\")\n",
    "ws = wb.active\n",
    "\n",
    "# 범위 지정\n",
    "line_value = Reference(ws, min_row=1, max_row=11, min_col=2, max_col=3)\n",
    "# 차트 종류 지정\n",
    "line_chart = LineChart()\n",
    "# 차트 데이터 추가(titles_from_data : 범위에 제목 행 들어가 있는 경우)\n",
    "line_chart.add_data(line_value,titles_from_data=True)\n",
    "\n",
    "line_chart.title = \"성적표\"\n",
    "line_chart.style = 20\n",
    "line_chart.y_axis.title = \"점수\"\n",
    "line_chart.x_axis.title = \"번호\"\n",
    "\n",
    "ws.add_chart(line_chart, \"E1\")\n",
    "\n",
    "wb.save(\"range_chart.xlsx\")\n",
    "wb.close()"
   ]
  },
  {
   "cell_type": "code",
   "execution_count": 41,
   "metadata": {},
   "outputs": [],
   "source": [
    "# 셀서식(너비, 높이, 폰트, 테두리....)\n",
    "from openpyxl.styles import Font, Border, Alignment, PatternFill\n",
    "from openpyxl.styles.borders import Side\n",
    "\n",
    "wb = load_workbook(\"range.xlsx\")\n",
    "ws = wb.active\n",
    "\n",
    "# 셀 너비 줄이기\n",
    "ws.column_dimensions[\"A\"].width = 5\n",
    "\n",
    "# 행 높이 조절\n",
    "ws.row_dimensions[1].height = 50\n",
    "\n",
    "# 특정 셀에 서로 다른 폰트 스타일 적용\n",
    "a1 = ws[\"A1\"]\n",
    "b1 = ws[\"B1\"]\n",
    "c1 = ws[\"C1\"]\n",
    "\n",
    "a1.font = Font(color=\"ff0000\", italic=True, bold=True)\n",
    "b1.font = Font(color=\"cc33ff\", name=\"Arial\", strike=True)\n",
    "c1.font = Font(color=\"0000ff\", size=20, underline=\"single\")\n",
    "\n",
    "# 테두리\n",
    "thin_border = Border(left=Side(style=\"thin\"),right=Side(style=\"dashed\"),top=Side(style=\"dotted\"),bottom=Side(style=\"double\"))\n",
    "\n",
    "a1.border = thin_border\n",
    "c1.border = thin_border\n",
    "\n",
    "# 셀 정렬 및 배경색\n",
    "for row in ws.rows:\n",
    "    for cell in row:\n",
    "    \n",
    "        cell.alignment = Alignment(horizontal=\"center\", vertical=\"center\")\n",
    "\n",
    "        if cell.column == 1:\n",
    "            continue\n",
    "        \n",
    "        # isinstance(값, 타입) : 값이 정해진 타입인지 확인\n",
    "        if isinstance(cell.value, int) and cell.value > 80:\n",
    "            cell.fill = PatternFill(fgColor=\"00ff00\", fill_type=\"solid\")\n",
    "            cell.font = Font(color=\"ff0000\")\n",
    "\n",
    "wb.save(\"range_style.xlsx\")\n",
    "wb.close()"
   ]
  },
  {
   "cell_type": "code",
   "execution_count": 43,
   "metadata": {},
   "outputs": [],
   "source": [
    "# 함수 삽입\n",
    "from datetime import datetime\n",
    "from openpyxl import Workbook\n",
    "\n",
    "wb = Workbook()\n",
    "ws = wb.active\n",
    "\n",
    "# 날짜 넣기\n",
    "ws[\"A1\"] = datetime.today()\n",
    "\n",
    "# 합계 구하기\n",
    "ws[\"A2\"] = \"=sum(1,2,3)\"\n",
    "\n",
    "# 평균 구하기\n",
    "ws[\"A3\"] = \"=average(1,2,3)\"\n",
    "\n",
    "# 데이터 삽입 후 함수 적용\n",
    "ws[\"A4\"] = 10\n",
    "ws[\"A5\"] = 30\n",
    "ws[\"A6\"] = \"=sum(A4:A5)\"\n",
    "\n",
    "wb.save(\"sample_formula.xlsx\")\n",
    "wb.close()"
   ]
  },
  {
   "cell_type": "code",
   "execution_count": 2,
   "metadata": {},
   "outputs": [
    {
     "name": "stdout",
     "output_type": "stream",
     "text": [
      "2023-07-05 18:01:28.106000\n",
      "None\n",
      "None\n",
      "10\n",
      "30\n",
      "None\n"
     ]
    }
   ],
   "source": [
    "from openpyxl import load_workbook\n",
    "\n",
    "# wb = load_workbook(\"sample_formula.xlsx\")\n",
    "wb = load_workbook(\"sample_formula.xlsx\", data_only=True)\n",
    "ws = wb.active\n",
    "\n",
    "# ws.values : 셀 안에 들어 있는 모든 값 가져오기\n",
    "# data_only : 원래는 읽어올 때 함수 자체를 읽어오기때문에 data_only를 써야 값을 가져올 수 있음\n",
    "for row in ws.values:\n",
    "    for cell in row:\n",
    "        print(cell)"
   ]
  },
  {
   "cell_type": "code",
   "execution_count": 3,
   "metadata": {},
   "outputs": [],
   "source": [
    "# 이미지 삽입 - pip install pillow(내부적으로는 이 라이브러리가 있어야함)\n",
    "\n",
    "from openpyxl import Workbook\n",
    "from openpyxl.drawing.image import Image\n",
    "\n",
    "wb = Workbook()\n",
    "ws = wb.active\n",
    "\n",
    "img = Image(\"111.png\")\n",
    "\n",
    "ws.add_image(img, \"C3\")\n",
    "\n",
    "wb.save(\"sample_image.xlsx\")\n",
    "wb.close()"
   ]
  },
  {
   "cell_type": "code",
   "execution_count": 17,
   "metadata": {},
   "outputs": [],
   "source": [
    "# 솔컴퓨터 학원의 교수님이라고 할 때\n",
    "# 기말고사 성적을 작성하려고 한다\n",
    "# 가르치는 과목의 점수 비중은 다음과 같다\n",
    "# 출석 10, 퀴즈1 10, 퀴즈2 10, 중간고사 20, 기말고사 30, 프로젝트 20\n",
    "\n",
    "# 학생들의 기본 데이터\n",
    "# 학번 출석 퀴즈1 퀴즈2 중간고사 기말고사 프로젝트\n",
    "# \n",
    "\n",
    "# 마지막 수업을 마치고 이번 학기 학생들의 최종 성적을 검토하는 과정에서\n",
    "# 퀴즈2 문제에 오류를 발견하여 모두 만점 처리를 하기로 하였다.\n",
    "# 현재까지 작성된 최종 성적 데이터를 기준으로 아래와 같이 수정하기\n",
    "# 퀴즈2 점수를 10으로 수정\n",
    "# H열에 총점(sum 사용), I열에 성적 정보 추가\n",
    "# 총점 90이상 A, 80이상 B, 70이상 C, 나머지 D\n",
    "# 출석이 5 미만인 학생은 총점과 상관없이 F\n",
    "from openpyxl import Workbook\n",
    "\n",
    "wb = Workbook()\n",
    "ws = wb.active\n",
    "\n",
    "ws.append([\"학번\",\"출석\",\"퀴즈1\",\"퀴즈2\",\"중간고사\",\"기말고사\",\"프로젝트\"])\n",
    "datas = [\n",
    "    [1, 10, 8, 5, 14, 26, 12],\n",
    "    [2, 7, 3, 7, 15, 24, 18],\n",
    "    [3, 9 ,5 ,8, 8, 12, 4],\n",
    "    [4, 7, 8, 7, 17, 21, 18],\n",
    "    [5, 7, 8, 7, 16 , 25, 15],\n",
    "    [6, 3, 5, 8, 8, 17, 0],\n",
    "    [7, 4, 9, 10, 16, 27, 18],\n",
    "    [8, 6, 6, 6, 15, 19, 17],\n",
    "    [9, 10, 10, 10, 9, 19, 19],\n",
    "    [10, 9, 8, 8, 8, 20, 20]\n",
    "]\n",
    "for row in datas:\n",
    "    ws.append(row)\n",
    "\n",
    "        \n",
    "\n",
    "wb.save(\"grade.xlsx\")\n",
    "wb.close()\n",
    "\n",
    "\n"
   ]
  },
  {
   "cell_type": "code",
   "execution_count": 25,
   "metadata": {},
   "outputs": [],
   "source": [
    "from openpyxl import load_workbook\n",
    "\n",
    "wb = load_workbook(\"grade.xlsx\")\n",
    "ws = wb.active\n",
    "\n",
    "# enumerate() : index,value 작업을 할 수 있음\n",
    "for idx,col in enumerate(ws[\"D\"]):\n",
    "    if idx == 0:\n",
    "        continue\n",
    "    col.value = 10\n",
    "\n",
    "ws[\"H1\"] = \"총점\"\n",
    "ws[\"I1\"] = \"성적\"\n",
    "\n",
    "# ws[\"h2\"] = \"=sum(B2:G2)\"\n",
    "# ws[\"h3\"] = \"=sum(B3:G3)\"\n",
    "for idx, score in enumerate(datas, start=2):    \n",
    "    ws.cell(row=idx, column=8).value = \"=sum(B{0}:G{0})\".format(idx)\n",
    "\n",
    "    # 등급 계산 \n",
    "    total = sum(score[1:]) - score[3] + 10\n",
    "\n",
    "    grade = None\n",
    "    if total >= 90:\n",
    "        grade = \"A\"\n",
    "    elif total >= 80:\n",
    "        grade = \"B\"\n",
    "    elif total >= 70:\n",
    "        grade = \"C\"\n",
    "    else:\n",
    "        grade = \"D\"\n",
    "    if score[1] < 5:\n",
    "        grade = \"F\"\n",
    "    ws.cell(row=idx, column=9).value = grade\n",
    "    \n",
    "\n",
    "wb.save(\"grade.xlsx\")\n",
    "wb.close()"
   ]
  },
  {
   "cell_type": "code",
   "execution_count": null,
   "metadata": {},
   "outputs": [],
   "source": []
  }
 ],
 "metadata": {
  "kernelspec": {
   "display_name": "pythonsource",
   "language": "python",
   "name": "python3"
  },
  "language_info": {
   "codemirror_mode": {
    "name": "ipython",
    "version": 3
   },
   "file_extension": ".py",
   "mimetype": "text/x-python",
   "name": "python",
   "nbconvert_exporter": "python",
   "pygments_lexer": "ipython3",
   "version": "3.11.4"
  },
  "orig_nbformat": 4
 },
 "nbformat": 4,
 "nbformat_minor": 2
}
